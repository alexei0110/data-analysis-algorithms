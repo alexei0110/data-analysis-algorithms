{
 "cells": [
  {
   "cell_type": "code",
   "execution_count": 92,
   "id": "224716ab",
   "metadata": {},
   "outputs": [],
   "source": [
    "import numpy as np\n",
    "import matplotlib.pyplot as plt"
   ]
  },
  {
   "cell_type": "code",
   "execution_count": 93,
   "id": "b8224db4",
   "metadata": {},
   "outputs": [],
   "source": [
    "X = np.array([ [   1,    1,  500,    1],\n",
    "               [   1,    1,  700,    1],\n",
    "               [   1,    2,  750,    2],\n",
    "               [   1,    5,  600,    1],\n",
    "               [   1,    3, 1450,    2],\n",
    "               [   1,    0,  800,    1],\n",
    "               [   1,    5, 1500,    3],\n",
    "               [   1,   10, 2000,    3],\n",
    "               [   1,    1,  450,    1],\n",
    "               [   1,    2, 1000,    2]], dtype=np.float64)\n",
    "\n",
    "y = np.array([0, 0, 1, 0, 1, 0, 1, 0, 1, 1], dtype=np.float64)"
   ]
  },
  {
   "cell_type": "code",
   "execution_count": 94,
   "id": "a2bede25",
   "metadata": {},
   "outputs": [],
   "source": [
    "def standard_scale(X):\n",
    "    mean = X.mean(axis=0)\n",
    "    std = X.std(axis=0)\n",
    "    return (X - mean) / std "
   ]
  },
  {
   "cell_type": "code",
   "execution_count": 95,
   "id": "bc680c57",
   "metadata": {},
   "outputs": [
    {
     "data": {
      "text/plain": [
       "array([[ 1.        , -0.70710678, -0.97958969, -0.89625816],\n",
       "       [ 1.        , -0.70710678, -0.56713087, -0.89625816],\n",
       "       [ 1.        , -0.35355339, -0.46401617,  0.38411064],\n",
       "       [ 1.        ,  0.70710678, -0.77336028, -0.89625816],\n",
       "       [ 1.        ,  0.        ,  0.97958969,  0.38411064],\n",
       "       [ 1.        , -1.06066017, -0.36090146, -0.89625816],\n",
       "       [ 1.        ,  0.70710678,  1.08270439,  1.66447944],\n",
       "       [ 1.        ,  2.47487373,  2.11385144,  1.66447944],\n",
       "       [ 1.        , -0.70710678, -1.08270439, -0.89625816],\n",
       "       [ 1.        , -0.35355339,  0.05155735,  0.38411064]])"
      ]
     },
     "execution_count": 95,
     "metadata": {},
     "output_type": "execute_result"
    }
   ],
   "source": [
    "X_st = X.copy()\n",
    "X_st[:, 1:4] = standard_scale(X_st[:, 1:4])\n",
    "X_st"
   ]
  },
  {
   "cell_type": "markdown",
   "id": "fb2d1bf9",
   "metadata": {},
   "source": [
    "1. Измените функцию calc_logloss так, чтобы нули по возможности не попадали в np.log"
   ]
  },
  {
   "cell_type": "code",
   "execution_count": 96,
   "id": "7af094ac",
   "metadata": {},
   "outputs": [],
   "source": [
    "def calc_logloss(y, y_pred):\n",
    "    err = 0\n",
    "    for i in range(len(y)):\n",
    "        if y_pred[i] == 0:\n",
    "            err += (1.0 - y[i]) * np.log(1.0 - y_pred[i])\n",
    "        elif y_pred[i] == 1:\n",
    "            err += y[i] * np.log(y_pred[i]) \n",
    "        else:\n",
    "            err += y[i] * np.log(y_pred[i]) + (1.0 - y[i]) * np.log(1.0 - y_pred[i])\n",
    "    return - err / len(y)"
   ]
  },
  {
   "cell_type": "code",
   "execution_count": 97,
   "id": "786fd4af",
   "metadata": {},
   "outputs": [
    {
     "data": {
      "text/plain": [
       "0.164252033486018"
      ]
     },
     "execution_count": 97,
     "metadata": {},
     "output_type": "execute_result"
    }
   ],
   "source": [
    "y1 = np.array([1, 0])\n",
    "y_pred1 = np.array([0.8, 0.1])\n",
    "calc_logloss(y1, y_pred1)"
   ]
  },
  {
   "cell_type": "code",
   "execution_count": 98,
   "id": "2e0bc5a2",
   "metadata": {},
   "outputs": [
    {
     "data": {
      "text/plain": [
       "0.05268025782891314"
      ]
     },
     "execution_count": 98,
     "metadata": {},
     "output_type": "execute_result"
    }
   ],
   "source": [
    "y1 = np.array([1, 0])\n",
    "y_pred1 = np.array([0.9, 0])\n",
    "calc_logloss(y1, y_pred1)"
   ]
  },
  {
   "cell_type": "code",
   "execution_count": 99,
   "id": "5f84d8e5",
   "metadata": {},
   "outputs": [
    {
     "data": {
      "text/plain": [
       "0.05268025782891314"
      ]
     },
     "execution_count": 99,
     "metadata": {},
     "output_type": "execute_result"
    }
   ],
   "source": [
    "y1 = np.array([1, 0])\n",
    "y_pred1 = np.array([1, 0.1])\n",
    "calc_logloss(y1, y_pred1)"
   ]
  },
  {
   "cell_type": "markdown",
   "id": "8d376482",
   "metadata": {},
   "source": [
    "2. Подберите аргументы функции eval_model для логистической регрессии таким образом, чтобы log loss был минимальным."
   ]
  },
  {
   "cell_type": "code",
   "execution_count": 100,
   "id": "643ae85c",
   "metadata": {},
   "outputs": [],
   "source": [
    "def sigmoid(z):\n",
    "    res = 1 / (1 + np.exp(-z))\n",
    "    return res"
   ]
  },
  {
   "cell_type": "code",
   "execution_count": 101,
   "id": "61a3771a",
   "metadata": {},
   "outputs": [],
   "source": [
    "def eval_model(X, y, iterations, eta=1e-4):\n",
    "    np.random.seed(42)\n",
    "    W = np.random.randn(X.shape[1])\n",
    "    n = X.shape[0]\n",
    "    \n",
    "    for i in range(iterations):\n",
    "        z = np.dot(X, W)\n",
    "        y_pred = sigmoid(z)\n",
    "        err = calc_logloss(y, y_pred)\n",
    "        \n",
    "        dQ = 1/n * X.T @ (y_pred - y)\n",
    "        W -= eta * dQ\n",
    "        if i % (iterations / 10) == 0:\n",
    "            print(i, W, err)\n",
    "            \n",
    "    final_error = calc_logloss(y, y_pred)\n",
    "    return W, final_error"
   ]
  },
  {
   "cell_type": "markdown",
   "id": "d570e248",
   "metadata": {},
   "source": [
    "Вручную"
   ]
  },
  {
   "cell_type": "code",
   "execution_count": 102,
   "id": "7a6139b4",
   "metadata": {},
   "outputs": [
    {
     "name": "stdout",
     "output_type": "stream",
     "text": [
      "0 [ 0.31921832 -1.49236188 -0.51944502  0.90063097] 0.760958797591889\n",
      "10 [-0.01029206 -2.82809091 -0.88447098  3.73398716] 0.3226261607632078\n",
      "20 [ 0.18002003 -2.97134197 -1.34779553  4.84469069] 0.27715351986139203\n",
      "30 [ 0.31866054 -3.19436082 -1.77479772  5.62385571] 0.2593025845433026\n",
      "40 [ 0.4446571  -3.41604738 -2.12394358  6.28495733] 0.24655287466702386\n",
      "50 [ 0.55910135 -3.62730214 -2.42417791  6.87809585] 0.23640505725582975\n",
      "60 [ 0.66466222 -3.82833485 -2.69302119  7.42403877] 0.22786606495433842\n",
      "70 [ 0.76314938 -4.02006992 -2.93980244  7.93421816] 0.22044019616890415\n",
      "80 [ 0.85575995 -4.20344727 -3.16984754  8.41566398] 0.21384584337320178\n",
      "90 [ 0.94333118 -4.37929796 -3.38645036  8.87303097] 0.20790689534007237\n"
     ]
    }
   ],
   "source": [
    "W, error = eval_model(X_st, y, iterations=100, eta=5)"
   ]
  },
  {
   "cell_type": "markdown",
   "id": "79006d55",
   "metadata": {},
   "source": [
    "3. Создайте функцию calc_pred_proba, возвращающую предсказанную вероятность класса 1. На вход подаётся W, который уже посчитан функцией eval_model, и X, на выходе — массив y_pred_proba."
   ]
  },
  {
   "cell_type": "code",
   "execution_count": 103,
   "id": "d5b19618",
   "metadata": {},
   "outputs": [],
   "source": [
    "def calc_pred_proba(W, X):\n",
    "    y_pred_proba = sigmoid(np.dot(X, W))\n",
    "    return y_pred_proba"
   ]
  },
  {
   "cell_type": "code",
   "execution_count": 104,
   "id": "87ca1417",
   "metadata": {},
   "outputs": [
    {
     "data": {
      "text/plain": [
       "array([3.58043233e-01, 1.13341370e-01, 9.99605449e-01, 4.39572170e-04,\n",
       "       7.46305694e-01, 2.33000018e-01, 9.99914868e-01, 8.92559045e-02,\n",
       "       4.46315218e-01, 9.97517198e-01])"
      ]
     },
     "execution_count": 104,
     "metadata": {},
     "output_type": "execute_result"
    }
   ],
   "source": [
    "calc_pred_proba(W, X_st)"
   ]
  },
  {
   "cell_type": "markdown",
   "id": "a8e73961",
   "metadata": {},
   "source": [
    "4. Создайте функцию calc_pred, возвращающую предсказанный класс. На вход подаётся W, который уже посчитан функцией eval_model, и X, на выходе — массив y_pred."
   ]
  },
  {
   "cell_type": "code",
   "execution_count": 105,
   "id": "24035ff0",
   "metadata": {},
   "outputs": [],
   "source": [
    "def calc_pred(W, X):\n",
    "    y_pred_proba = calc_pred_proba(W, X)\n",
    "    y_pred = np.where(y_pred_proba > 0.5, 1, 0)\n",
    "    return y_pred"
   ]
  },
  {
   "cell_type": "code",
   "execution_count": 106,
   "id": "8ae8bc08",
   "metadata": {},
   "outputs": [
    {
     "data": {
      "text/plain": [
       "array([0, 0, 1, 0, 1, 0, 1, 0, 0, 1])"
      ]
     },
     "execution_count": 106,
     "metadata": {},
     "output_type": "execute_result"
    }
   ],
   "source": [
    "pred = calc_pred(W, X_st)\n",
    "pred"
   ]
  },
  {
   "cell_type": "markdown",
   "id": "aa4b1748",
   "metadata": {},
   "source": [
    "5. Посчитайте Accuracy, матрицу ошибок, точность и полноту, а также F1 score."
   ]
  },
  {
   "cell_type": "markdown",
   "id": "cc8bf7be",
   "metadata": {},
   "source": [
    "Accuracy"
   ]
  },
  {
   "cell_type": "code",
   "execution_count": 107,
   "id": "fd4f61a7",
   "metadata": {},
   "outputs": [],
   "source": [
    "def accuracy(y, y_pred):\n",
    "    accuracy = np.mean(y == y_pred)\n",
    "    return accuracy"
   ]
  },
  {
   "cell_type": "code",
   "execution_count": 108,
   "id": "dd5f3d92",
   "metadata": {},
   "outputs": [
    {
     "name": "stdout",
     "output_type": "stream",
     "text": [
      "True \t [0. 0. 1. 0. 1. 0. 1. 0. 1. 1.]\n",
      "Predicted  [0 0 1 0 1 0 1 0 0 1]\n"
     ]
    }
   ],
   "source": [
    "print(f'True \\t {y}')\n",
    "print(f'Predicted  {pred}')"
   ]
  },
  {
   "cell_type": "code",
   "execution_count": 109,
   "id": "bb9cdda0",
   "metadata": {},
   "outputs": [
    {
     "data": {
      "text/plain": [
       "0.9"
      ]
     },
     "execution_count": 109,
     "metadata": {},
     "output_type": "execute_result"
    }
   ],
   "source": [
    "accuracy(y, pred)"
   ]
  },
  {
   "cell_type": "markdown",
   "id": "e72236c6",
   "metadata": {},
   "source": [
    "Confusion matrix"
   ]
  },
  {
   "cell_type": "code",
   "execution_count": 110,
   "id": "a8e875d0",
   "metadata": {},
   "outputs": [],
   "source": [
    "def confusion_matrix(y, y_pred):\n",
    "    cm = np.zeros((2, 2))\n",
    "    for i in range(len(y)):\n",
    "        if y[i] == y_pred[i] == 1:  # TP\n",
    "                cm[0][0] += 1\n",
    "        elif y[i] == y_pred[i] == 0:   # TN\n",
    "                cm[1][1] += 1\n",
    "        elif y[i] != y_pred[i] and y[i] == 1:  # FN\n",
    "                cm[1][0] += 1\n",
    "        elif y[i] != y_pred[i] and y[i] == 0:  # FP\n",
    "                cm[0][1] += 1\n",
    "    return cm                "
   ]
  },
  {
   "cell_type": "code",
   "execution_count": 111,
   "id": "016c1955",
   "metadata": {},
   "outputs": [
    {
     "data": {
      "text/plain": [
       "array([[4., 0.],\n",
       "       [1., 5.]])"
      ]
     },
     "execution_count": 111,
     "metadata": {},
     "output_type": "execute_result"
    }
   ],
   "source": [
    "cm = confusion_matrix(y, pred)\n",
    "cm"
   ]
  },
  {
   "cell_type": "markdown",
   "id": "6c434274",
   "metadata": {},
   "source": [
    "Precision"
   ]
  },
  {
   "cell_type": "code",
   "execution_count": 112,
   "id": "c4986c1e",
   "metadata": {},
   "outputs": [],
   "source": [
    "def precision(y, y_pred):\n",
    "    cm = confusion_matrix(y, y_pred)\n",
    "    TP = cm[0][0]\n",
    "    TN = cm[1][1]\n",
    "    FN = cm[1][0]\n",
    "    FP = cm[0][1]\n",
    "    precision = TP / (TP + FP)\n",
    "    return precision"
   ]
  },
  {
   "cell_type": "code",
   "execution_count": 113,
   "id": "02d2d800",
   "metadata": {},
   "outputs": [
    {
     "data": {
      "text/plain": [
       "1.0"
      ]
     },
     "execution_count": 113,
     "metadata": {},
     "output_type": "execute_result"
    }
   ],
   "source": [
    "precision(y, pred)"
   ]
  },
  {
   "cell_type": "markdown",
   "id": "c2da71f1",
   "metadata": {},
   "source": [
    "Recall"
   ]
  },
  {
   "cell_type": "code",
   "execution_count": 114,
   "id": "2bbba238",
   "metadata": {},
   "outputs": [],
   "source": [
    "def recall(y, y_pred):\n",
    "    cm = confusion_matrix(y, y_pred)\n",
    "    TP = cm[0][0]\n",
    "    TN = cm[1][1]\n",
    "    FN = cm[1][0]\n",
    "    FP = cm[0][1]\n",
    "    recall = TP / (TP + FN)\n",
    "    return recall"
   ]
  },
  {
   "cell_type": "code",
   "execution_count": 115,
   "id": "8fd6c5e7",
   "metadata": {},
   "outputs": [
    {
     "data": {
      "text/plain": [
       "0.8"
      ]
     },
     "execution_count": 115,
     "metadata": {},
     "output_type": "execute_result"
    }
   ],
   "source": [
    "recall(y, pred)"
   ]
  },
  {
   "cell_type": "markdown",
   "id": "6b37d482",
   "metadata": {},
   "source": [
    "F-score"
   ]
  },
  {
   "cell_type": "code",
   "execution_count": 116,
   "id": "a219182c",
   "metadata": {},
   "outputs": [],
   "source": [
    "def f_score(y, y_pred):\n",
    "    pr = precision(y, y_pred)\n",
    "    rec = recall(y, y_pred)\n",
    "    f_score = 2 * pr * rec / (pr + rec)\n",
    "    return f_score"
   ]
  },
  {
   "cell_type": "code",
   "execution_count": 117,
   "id": "63bcca60",
   "metadata": {},
   "outputs": [
    {
     "data": {
      "text/plain": [
       "0.888888888888889"
      ]
     },
     "execution_count": 117,
     "metadata": {},
     "output_type": "execute_result"
    }
   ],
   "source": [
    "f_score(y, pred)"
   ]
  },
  {
   "cell_type": "markdown",
   "id": "8f7228e9",
   "metadata": {},
   "source": [
    "6. Могла ли модель переобучиться? Почему?\n",
    "\n",
    "Нет, так как метрики не очень высокие."
   ]
  },
  {
   "cell_type": "code",
   "execution_count": null,
   "id": "3b194123",
   "metadata": {},
   "outputs": [],
   "source": []
  }
 ],
 "metadata": {
  "kernelspec": {
   "display_name": "Python 3 (ipykernel)",
   "language": "python",
   "name": "python3"
  },
  "language_info": {
   "codemirror_mode": {
    "name": "ipython",
    "version": 3
   },
   "file_extension": ".py",
   "mimetype": "text/x-python",
   "name": "python",
   "nbconvert_exporter": "python",
   "pygments_lexer": "ipython3",
   "version": "3.9.7"
  }
 },
 "nbformat": 4,
 "nbformat_minor": 5
}

{
 "cells": [
  {
   "cell_type": "code",
   "execution_count": 1,
   "id": "1c205025",
   "metadata": {},
   "outputs": [],
   "source": [
    "import numpy as np\n",
    "import matplotlib.pyplot as plt\n",
    "from sklearn.tree import DecisionTreeRegressor\n",
    "from sklearn import model_selection\n",
    "from sklearn.datasets import load_diabetes"
   ]
  },
  {
   "cell_type": "markdown",
   "id": "33b5e146",
   "metadata": {},
   "source": [
    "Используем один из \"игрушечных\" датасетов из той же библиотеки."
   ]
  },
  {
   "cell_type": "code",
   "execution_count": 2,
   "id": "efd3cfee",
   "metadata": {},
   "outputs": [],
   "source": [
    "X, y = load_diabetes(return_X_y=True)"
   ]
  },
  {
   "cell_type": "markdown",
   "id": "6710f9af",
   "metadata": {},
   "source": [
    "Разделим выборку на обучающую и тестовую в соотношении 75/25."
   ]
  },
  {
   "cell_type": "code",
   "execution_count": 3,
   "id": "887e130a",
   "metadata": {},
   "outputs": [],
   "source": [
    "X_train, X_test, y_train, y_test = model_selection.train_test_split(X, y, test_size=0.25)"
   ]
  },
  {
   "cell_type": "markdown",
   "id": "16ce3006",
   "metadata": {},
   "source": [
    "Напишем функцию, реализующую предсказание в градиентном бустинге"
   ]
  },
  {
   "cell_type": "code",
   "execution_count": 4,
   "id": "3a2c89f3",
   "metadata": {},
   "outputs": [],
   "source": [
    "def gb_predict(X, trees_list, coef_list, eta):\n",
    "    # Реализуемый алгоритм градиентного бустинга будет инициализироваться нулевыми значениями,\n",
    "    # поэтому все деревья из списка trees_list уже являются дополнительными и при предсказании прибавляются с шагом eta\n",
    "    return np.array([sum([eta* coef * alg.predict([x])[0] for alg, coef in zip(trees_list, coef_list)]) for x in X])"
   ]
  },
  {
   "cell_type": "markdown",
   "id": "58a65888",
   "metadata": {},
   "source": [
    "В качестве функционала ошибки будем использовать среднеквадратичную ошибку. Реализуем соответствующую функцию."
   ]
  },
  {
   "cell_type": "code",
   "execution_count": 5,
   "id": "a3ecee37",
   "metadata": {},
   "outputs": [],
   "source": [
    "def mean_squared_error(y_real, prediction):\n",
    "    return (sum((y_real - prediction)**2)) / len(y_real)"
   ]
  },
  {
   "cell_type": "code",
   "execution_count": 6,
   "id": "a5eeeea7",
   "metadata": {},
   "outputs": [],
   "source": [
    "def bias(y, z):\n",
    "    return (y - z)"
   ]
  },
  {
   "cell_type": "markdown",
   "id": "e4ae2908",
   "metadata": {},
   "source": [
    "Реализуем функцию обучения градиентного бустинга."
   ]
  },
  {
   "cell_type": "code",
   "execution_count": 7,
   "id": "748ec0b7",
   "metadata": {},
   "outputs": [],
   "source": [
    "def gb_fit(n_trees, max_depth, X_train, X_test, y_train, y_test, coefs, eta):\n",
    "    \n",
    "    # Деревья будем записывать в список\n",
    "    trees = []\n",
    "    \n",
    "    # Будем записывать ошибки на обучающей и тестовой выборке на каждой итерации в список\n",
    "    train_errors = []\n",
    "    test_errors = []\n",
    "    \n",
    "    for i in range(n_trees):\n",
    "        tree = DecisionTreeRegressor(max_depth=max_depth, random_state=42)\n",
    "\n",
    "        # Инициализируем бустинг начальным алгоритмом, возвращающим ноль, \n",
    "        # поэтому первый алгоритм просто обучаем на выборке и добавляем в список\n",
    "        if len(trees) == 0:\n",
    "            # обучаем первое дерево на обучающей выборке\n",
    "            tree.fit(X_train, y_train)\n",
    "            \n",
    "            train_errors.append(mean_squared_error(y_train, gb_predict(X_train, trees, coefs, eta)))\n",
    "            test_errors.append(mean_squared_error(y_test, gb_predict(X_test, trees, coefs, eta)))\n",
    "        else:\n",
    "            # Получим ответы на текущей композиции\n",
    "            target = gb_predict(X_train, trees, coefs, eta)\n",
    "            \n",
    "            # Алгоритмы, начиная со второго, обучаем на сдвиг\n",
    "            tree.fit(X_train, bias(y_train, target))\n",
    "            \n",
    "            train_errors.append(mean_squared_error(y_train, gb_predict(X_train, trees, coefs, eta)))\n",
    "            test_errors.append(mean_squared_error(y_test, gb_predict(X_test, trees, coefs, eta)))\n",
    "\n",
    "        trees.append(tree)\n",
    "        \n",
    "    return trees, train_errors, test_errors"
   ]
  },
  {
   "cell_type": "code",
   "execution_count": 8,
   "id": "be930ca6",
   "metadata": {},
   "outputs": [],
   "source": [
    "# Число деревьев в ансамбле\n",
    "n_trees = 10\n",
    "\n",
    "# Для простоты примем коэффициенты равными 1\n",
    "coefs = [1] * n_trees\n",
    "\n",
    "# Максимальная глубина деревьев\n",
    "max_depth = 3\n",
    "\n",
    "# Шаг\n",
    "eta = 1\n",
    "\n",
    "trees, train_errors, test_errors = gb_fit(n_trees, max_depth, X_train, X_test, y_train, y_test, coefs, eta)"
   ]
  },
  {
   "cell_type": "code",
   "execution_count": 9,
   "id": "2bf8eec4",
   "metadata": {},
   "outputs": [],
   "source": [
    "def evaluate_alg(X_train, X_test, y_train, y_test, trees, coefs, eta):\n",
    "    train_prediction = gb_predict(X_train, trees, coefs, eta)\n",
    "\n",
    "    print(f'Ошибка алгоритма из {n_trees} деревьев глубиной {max_depth} \\\n",
    "    с шагом {eta} на тренировочной выборке: {mean_squared_error(y_train, train_prediction)}')\n",
    "\n",
    "    test_prediction = gb_predict(X_test, trees, coefs, eta)\n",
    "\n",
    "    print(f'Ошибка алгоритма из {n_trees} деревьев глубиной {max_depth} \\\n",
    "    с шагом {eta} на тестовой выборке: {mean_squared_error(y_test, test_prediction)}')"
   ]
  },
  {
   "cell_type": "code",
   "execution_count": 10,
   "id": "30d9a2de",
   "metadata": {},
   "outputs": [
    {
     "name": "stdout",
     "output_type": "stream",
     "text": [
      "Ошибка алгоритма из 10 деревьев глубиной 3     с шагом 1 на тренировочной выборке: 1083.3673325086174\n",
      "Ошибка алгоритма из 10 деревьев глубиной 3     с шагом 1 на тестовой выборке: 5665.68875094349\n"
     ]
    }
   ],
   "source": [
    "evaluate_alg(X_train, X_test, y_train, y_test, trees, coefs, eta)"
   ]
  },
  {
   "cell_type": "code",
   "execution_count": 11,
   "id": "75ba6725",
   "metadata": {},
   "outputs": [],
   "source": [
    "def get_error_plot(n_trees, train_err, test_err):\n",
    "    plt.xlabel('Iteration number')\n",
    "    plt.ylabel('MSE')\n",
    "    plt.xlim(0, n_trees)\n",
    "    plt.plot(list(range(n_trees)), train_err, label='train error')\n",
    "    plt.plot(list(range(n_trees)), test_err, label='test error')\n",
    "    plt.legend(loc='upper right')\n",
    "    plt.show()"
   ]
  },
  {
   "cell_type": "code",
   "execution_count": 12,
   "id": "63a17cb7",
   "metadata": {},
   "outputs": [
    {
     "data": {
      "image/png": "[encoded data removed]",
      "text/plain": [
       "<Figure size 432x288 with 1 Axes>"
      ]
     },
     "metadata": {
      "needs_background": "light"
     },
     "output_type": "display_data"
    }
   ],
   "source": [
    "get_error_plot(n_trees, train_errors, test_errors)"
   ]
  },
  {
   "cell_type": "markdown",
   "id": "2629d8fe",
   "metadata": {},
   "source": [
    "1. Для реализованной модели градиентного бустинга постройте графики зависимости ошибки от количества деревьев в ансамбле и от максимальной глубины деревьев. Сделайте выводы о зависимости ошибки от этих параметров."
   ]
  },
  {
   "cell_type": "code",
   "execution_count": 13,
   "id": "271924cf",
   "metadata": {},
   "outputs": [],
   "source": [
    "def plot_trees_error(X_train, X_test, y_train, y_test, max_depth, eta):  \n",
    "    \n",
    "    trees = [5, 10, 15, 20, 25, 30, 35, 40, 45, 50]\n",
    "    train_results = [] \n",
    "    test_results = []\n",
    "    \n",
    "    for tree in trees:\n",
    "        n_trees = tree\n",
    "        coefs = [1] * n_trees\n",
    "        t, train_errors, test_errors = gb_fit(n_trees, max_depth, X_train, X_test, y_train, y_test, coefs, eta)\n",
    "        train_prediction = gb_predict(X_train, t, coefs, eta)\n",
    "        test_prediction = gb_predict(X_test, t, coefs, eta)\n",
    "        train_r = mean_squared_error(y_train, train_prediction)\n",
    "        test_r = mean_squared_error(y_test, test_prediction)\n",
    "        train_results.append(train_r)\n",
    "        test_results.append(test_r)\n",
    "                \n",
    "    plt.xlabel('Trees number')\n",
    "    plt.ylabel('MSE')\n",
    "    plt.plot(trees, train_results, label='train error')\n",
    "    plt.plot(trees, test_results, label='test error')\n",
    "    plt.legend(loc='upper right')\n",
    "    plt.show()"
   ]
  },
  {
   "cell_type": "code",
   "execution_count": 14,
   "id": "e59a731f",
   "metadata": {},
   "outputs": [],
   "source": [
    "def plot_depth_error(X_train, X_test, y_train, y_test, n_trees, eta):  \n",
    "    \n",
    "    depths = [1, 2, 3, 4, 5]\n",
    "    train_results = [] \n",
    "    test_results = []\n",
    "    \n",
    "    for depth in depths:\n",
    "        coefs = [1] * n_trees\n",
    "        t, train_errors, test_errors = gb_fit(n_trees, depth, X_train, X_test, y_train, y_test, coefs, eta)\n",
    "        train_prediction = gb_predict(X_train, t, coefs, eta)\n",
    "        test_prediction = gb_predict(X_test, t, coefs, eta)\n",
    "        train_r = mean_squared_error(y_train, train_prediction)\n",
    "        test_r = mean_squared_error(y_test, test_prediction)\n",
    "        train_results.append(train_r)\n",
    "        test_results.append(test_r)\n",
    "                \n",
    "    plt.xlabel('Depths number')\n",
    "    plt.ylabel('MSE')\n",
    "    plt.plot(depths, train_results, label='train error')\n",
    "    plt.plot(depths, test_results, label='test error')\n",
    "    plt.legend(loc='upper right')\n",
    "    plt.show()"
   ]
  },
  {
   "cell_type": "code",
   "execution_count": 15,
   "id": "8cf41e06",
   "metadata": {},
   "outputs": [
    {
     "data": {
      "image/png": "[encoded data removed]",
      "text/plain": [
       "<Figure size 432x288 with 1 Axes>"
      ]
     },
     "metadata": {
      "needs_background": "light"
     },
     "output_type": "display_data"
    }
   ],
   "source": [
    "plot_trees_error(X_train, X_test, y_train, y_test, max_depth = 3, eta = 0.1)\n"
   ]
  },
  {
   "cell_type": "code",
   "execution_count": 22,
   "id": "277066a3",
   "metadata": {},
   "outputs": [
    {
     "data": {
      "image/png": "[encoded data removed]",
      "text/plain": [
       "<Figure size 432x288 with 1 Axes>"
      ]
     },
     "metadata": {
      "needs_background": "light"
     },
     "output_type": "display_data"
    }
   ],
   "source": [
    "plot_depth_error(X_train, X_test, y_train, y_test, n_trees = 10, eta = 0.1)"
   ]
  },
  {
   "cell_type": "markdown",
   "id": "6d30a87e",
   "metadata": {},
   "source": [
    "По графику с деревьями можно увидеть, что ошибка падает до 20-25 деревьев, а далее кривая выравнивается и становится похожей на плато. По глубине видно, что ошибка постоянно падает на тренировочных данных, но на тестовой до 2 (от чего продолжает немного падать до 3), затем снова растёт. Соответственно, происходит переобучение. Глядя на оба графика можно судить о том, что оптимальным выбором деревьев будет около 25, а глубины - от 2 до 3 (при шаге 0.1). После проверки оказалось, что глубина 3 - самая оптимальная. При этих значениях не такой большой разрыв ошибки между тренировочной выборкой и тестовой, а также самая маленькая ошибка на тесте."
   ]
  },
  {
   "cell_type": "code",
   "execution_count": 17,
   "id": "13c64850",
   "metadata": {},
   "outputs": [
    {
     "name": "stdout",
     "output_type": "stream",
     "text": [
      "Ошибка алгоритма из 25 деревьев глубиной 2     с шагом 0.1 на тренировочной выборке: 2551.038816274818\n",
      "Ошибка алгоритма из 25 деревьев глубиной 2     с шагом 0.1 на тестовой выборке: 3428.5204351168704\n"
     ]
    }
   ],
   "source": [
    "# Число деревьев в ансамбле\n",
    "n_trees = 25\n",
    "\n",
    "# Для простоты примем коэффициенты равными 1\n",
    "coefs = [1] * n_trees\n",
    "\n",
    "# Максимальная глубина деревьев\n",
    "max_depth = 2\n",
    "\n",
    "# Шаг\n",
    "eta = 0.1\n",
    "\n",
    "trees, train_errors, test_errors = gb_fit(n_trees, max_depth, X_train, X_test, y_train, y_test, coefs, eta)\n",
    "\n",
    "evaluate_alg(X_train, X_test, y_train, y_test, trees, coefs, eta)"
   ]
  },
  {
   "cell_type": "markdown",
   "id": "704a3407",
   "metadata": {},
   "source": [
    "2. Модифицируйте реализованный алгоритм, чтобы получился стохастический градиентный бустинг. Размер подвыборки примите равным 0.5. Сравните на одном графике кривые изменения ошибки на тестовой выборке в зависимости от числа итераций."
   ]
  },
  {
   "cell_type": "code",
   "execution_count": 18,
   "id": "08440665",
   "metadata": {},
   "outputs": [],
   "source": [
    "def stoch_gb_fit(n_trees_s, max_depth, X_train, X_test, y_train, y_test, coefs, eta):\n",
    "\n",
    "# Деревья будем записывать в список\n",
    "    trees = []\n",
    "    \n",
    "    # Будем записывать ошибки на обучающей и тестовой выборке на каждой итерации в список\n",
    "    train_errors_s = []\n",
    "    test_errors_s = []\n",
    "    \n",
    "    # Найдём количество батчей\n",
    "    n = X_train.shape[0]\n",
    "    n_batch = 1/0.5  \n",
    "    qty_in_batch = int(n // n_batch) \n",
    "    \n",
    "    for i in range(n_trees_s):\n",
    "        tree = DecisionTreeRegressor(max_depth=max_depth, random_state=42)\n",
    "\n",
    "        # Создаём батч и применяем к выборкам\n",
    "        batch = np.random.randint(n_batch)      \n",
    "        start = qty_in_batch * batch\n",
    "        end = qty_in_batch * (batch + 1)\n",
    "        X_train_ = X_train[start:end, :]\n",
    "        y_train_ = y_train[start:end]\n",
    "        \n",
    "        # Инициализируем бустинг начальным алгоритмом, возвращающим ноль, \n",
    "        # поэтому первый алгоритм просто обучаем на выборке и добавляем в список\n",
    "        if len(trees) == 0:\n",
    "            # обучаем первое дерево на обучающей выборке\n",
    "            tree.fit(X_train_, y_train_)\n",
    "            \n",
    "            train_errors_s.append(mean_squared_error(y_train_, gb_predict(X_train_, trees, coefs, eta)))\n",
    "            test_errors_s.append(mean_squared_error(y_test, gb_predict(X_test, trees, coefs, eta)))\n",
    "        else:\n",
    "            # Получим ответы на текущей композиции\n",
    "            target = gb_predict(X_train_, trees, coefs, eta)\n",
    "            \n",
    "            # Алгоритмы, начиная со второго, обучаем на сдвиг\n",
    "            tree.fit(X_train_, bias(y_train_, target))\n",
    "            \n",
    "            train_errors_s.append(mean_squared_error(y_train_, gb_predict(X_train_, trees, coefs, eta)))\n",
    "            test_errors_s.append(mean_squared_error(y_test, gb_predict(X_test, trees, coefs, eta)))\n",
    "\n",
    "        trees.append(tree)\n",
    "        \n",
    "    return trees, train_errors_s, test_errors_s"
   ]
  },
  {
   "cell_type": "code",
   "execution_count": 19,
   "id": "acb2482f",
   "metadata": {},
   "outputs": [],
   "source": [
    "# Число деревьев в ансамбле\n",
    "n_trees_s = 10\n",
    "\n",
    "# Для простоты примем коэффициенты равными 1\n",
    "coefs = [1] * n_trees_s\n",
    "\n",
    "# Максимальная глубина деревьев\n",
    "max_depth = 3\n",
    "\n",
    "# Шаг\n",
    "eta = 1\n",
    "\n",
    "trees, train_errors_s, test_errors_s = stoch_gb_fit(n_trees_s, max_depth, X_train, X_test, y_train, y_test, coefs, eta)"
   ]
  },
  {
   "cell_type": "code",
   "execution_count": 20,
   "id": "b687d0cb",
   "metadata": {},
   "outputs": [],
   "source": [
    "def get_stoch_error_plot(n_trees_s, train_err, test_err):\n",
    "    plt.xlabel('Iteration number')\n",
    "    plt.ylabel('MSE')\n",
    "    plt.xlim(0, n_trees_s)\n",
    "    plt.plot(list(range(n_trees_s)), train_err, label='train error')\n",
    "    plt.plot(list(range(n_trees_s)), test_err, label='test error')\n",
    "    plt.legend(loc='upper right')\n",
    "    plt.show()"
   ]
  },
  {
   "cell_type": "code",
   "execution_count": 21,
   "id": "e4f6a8ef",
   "metadata": {},
   "outputs": [
    {
     "data": {
      "image/png": "[encoded data removed]",
      "text/plain": [
       "<Figure size 432x288 with 1 Axes>"
      ]
     },
     "metadata": {
      "needs_background": "light"
     },
     "output_type": "display_data"
    }
   ],
   "source": [
    "get_error_plot(n_trees_s, train_errors_s, test_errors_s)"
   ]
  },
  {
   "cell_type": "markdown",
   "id": "dd06fdd6",
   "metadata": {},
   "source": [
    "При стохастическом градиентном бустинге наблюдаются скачки (при обычном градиентном бустинге после резкого падения ошибки набюдается плато). Сперва ошибка резко падает, как и при обычном градиентном бустинге, но затем с новыми итерациями то растёт, то падает (на тренировочных данных), а на тестовых продолжает расти. При повторном запуске кода график немного меняется (на тех же данных)."
   ]
  },
  {
   "cell_type": "code",
   "execution_count": null,
   "id": "08ec7439",
   "metadata": {},
   "outputs": [],
   "source": []
  }
 ],
 "metadata": {
  "kernelspec": {
   "display_name": "Python 3 (ipykernel)",
   "language": "python",
   "name": "python3"
  },
  "language_info": {
   "codemirror_mode": {
    "name": "ipython",
    "version": 3
   },
   "file_extension": ".py",
   "mimetype": "text/x-python",
   "name": "python",
   "nbconvert_exporter": "python",
   "pygments_lexer": "ipython3",
   "version": "3.9.7"
  }
 },
 "nbformat": 4,
 "nbformat_minor": 5
}
